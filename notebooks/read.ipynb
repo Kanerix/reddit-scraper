{
 "cells": [
  {
   "cell_type": "code",
   "execution_count": 19,
   "metadata": {},
   "outputs": [],
   "source": [
    "from pathlib import Path\n",
    "\n",
    "import polars as pl"
   ]
  },
  {
   "cell_type": "code",
   "execution_count": 20,
   "metadata": {},
   "outputs": [],
   "source": [
    "file = \"asylansøgere_97100\"\n",
    "\n",
    "path = Path(f\"output/{file}.parquet\".lower())\n",
    "\n",
    "if path.exists():\n",
    "    df = pl.read_parquet(path)\n",
    "else:\n",
    "    print(\"failed to read parquet, file does not exist.\")"
   ]
  },
  {
   "cell_type": "code",
   "execution_count": 21,
   "metadata": {},
   "outputs": [
    {
     "data": {
      "text/html": [
       "<div><style>\n",
       ".dataframe > thead > tr,\n",
       ".dataframe > tbody > tr {\n",
       "  text-align: right;\n",
       "  white-space: pre-wrap;\n",
       "}\n",
       "</style>\n",
       "<small>shape: (97_100, 20)</small><table border=\"1\" class=\"dataframe\"><thead><tr><th>id</th><th>permalink</th><th>title</th><th>selftext</th><th>thumbnail</th><th>category</th><th>num_comments</th><th>author</th><th>author_flair_type</th><th>subreddit</th><th>subreddit_id</th><th>subreddit_subscribers</th><th>ups</th><th>downs</th><th>score</th><th>upvote_ratio</th><th>hide_score</th><th>total_awards_received</th><th>created</th><th>search_term</th></tr><tr><td>str</td><td>str</td><td>str</td><td>str</td><td>str</td><td>str</td><td>i64</td><td>str</td><td>str</td><td>str</td><td>str</td><td>i64</td><td>i64</td><td>i64</td><td>i64</td><td>f64</td><td>bool</td><td>i64</td><td>datetime[μs]</td><td>str</td></tr></thead><tbody><tr><td>&quot;1emzyva&quot;</td><td>&quot;/r/Denmark/comments/1emzyva/as…</td><td>&quot;Asylansøgere skaber utryghed i…</td><td>&quot;&quot;</td><td>&quot;https://b.thumbs.redditmedia.c…</td><td>null</td><td>386</td><td>&quot;Mortonwallmachine&quot;</td><td>&quot;richtext&quot;</td><td>&quot;Denmark&quot;</td><td>&quot;t5_2qjto&quot;</td><td>790646</td><td>172</td><td>0</td><td>172</td><td>0.83</td><td>false</td><td>0</td><td>2024-08-08 07:40:21</td><td>&quot;Asylansøgere&quot;</td></tr><tr><td>&quot;1eon7h7&quot;</td><td>&quot;/r/Denmark/comments/1eon7h7/as…</td><td>&quot;Asylansøgere skaber utryghed i…</td><td>&quot;&quot;</td><td>&quot;https://b.thumbs.redditmedia.c…</td><td>null</td><td>246</td><td>&quot;New-Recognition-4059&quot;</td><td>&quot;text&quot;</td><td>&quot;Denmark&quot;</td><td>&quot;t5_2qjto&quot;</td><td>790646</td><td>109</td><td>0</td><td>109</td><td>0.82</td><td>false</td><td>0</td><td>2024-08-10 07:25:45</td><td>&quot;Asylansøgere&quot;</td></tr><tr><td>&quot;1bkvbno&quot;</td><td>&quot;/r/Denmark/comments/1bkvbno/nu…</td><td>&quot;Nul asylansøgere og flere udvi…</td><td>&quot;&quot;</td><td>&quot;https://b.thumbs.redditmedia.c…</td><td>null</td><td>208</td><td>&quot;KarmusDK&quot;</td><td>&quot;text&quot;</td><td>&quot;Denmark&quot;</td><td>&quot;t5_2qjto&quot;</td><td>790646</td><td>160</td><td>0</td><td>160</td><td>0.92</td><td>false</td><td>0</td><td>2024-03-22 09:40:40</td><td>&quot;Asylansøgere&quot;</td></tr><tr><td>&quot;1et0osh&quot;</td><td>&quot;/r/Denmark/comments/1et0osh/30…</td><td>&quot;300 mennesker til borgermøde o…</td><td>&quot;&quot;</td><td>&quot;https://b.thumbs.redditmedia.c…</td><td>null</td><td>71</td><td>&quot;TheBakedDane&quot;</td><td>&quot;richtext&quot;</td><td>&quot;Denmark&quot;</td><td>&quot;t5_2qjto&quot;</td><td>790646</td><td>108</td><td>0</td><td>108</td><td>0.9</td><td>false</td><td>0</td><td>2024-08-15 17:13:14</td><td>&quot;Asylansøgere&quot;</td></tr><tr><td>&quot;1f8r31f&quot;</td><td>&quot;/r/Denmark/comments/1f8r31f/ka…</td><td>&quot;Kaare Dybvad rejser til kontro…</td><td>&quot;&quot;</td><td>&quot;default&quot;</td><td>null</td><td>78</td><td>&quot;FirstCircleLimbo&quot;</td><td>&quot;richtext&quot;</td><td>&quot;Denmark&quot;</td><td>&quot;t5_2qjto&quot;</td><td>790646</td><td>55</td><td>0</td><td>55</td><td>0.94</td><td>false</td><td>0</td><td>2024-09-04 11:41:00</td><td>&quot;Asylansøgere&quot;</td></tr><tr><td>&hellip;</td><td>&hellip;</td><td>&hellip;</td><td>&hellip;</td><td>&hellip;</td><td>&hellip;</td><td>&hellip;</td><td>&hellip;</td><td>&hellip;</td><td>&hellip;</td><td>&hellip;</td><td>&hellip;</td><td>&hellip;</td><td>&hellip;</td><td>&hellip;</td><td>&hellip;</td><td>&hellip;</td><td>&hellip;</td><td>&hellip;</td><td>&hellip;</td></tr><tr><td>&quot;3ynwy9&quot;</td><td>&quot;/r/Denmark/comments/3ynwy9/all…</td><td>&quot;Alle asylansøgere, der kommer …</td><td>&quot;&quot;</td><td>&quot;https://a.thumbs.redditmedia.c…</td><td>null</td><td>14</td><td>&quot;zwtor&quot;</td><td>&quot;text&quot;</td><td>&quot;Denmark&quot;</td><td>&quot;t5_2qjto&quot;</td><td>790615</td><td>34</td><td>0</td><td>34</td><td>0.92</td><td>false</td><td>0</td><td>2015-12-29 15:39:47</td><td>&quot;Asylansøgere&quot;</td></tr><tr><td>&quot;5ovnao&quot;</td><td>&quot;/r/Denmark/comments/5ovnao/17_…</td><td>&quot;17 asylansøgere dømt for voldt…</td><td>&quot;&quot;</td><td>&quot;https://b.thumbs.redditmedia.c…</td><td>null</td><td>15</td><td>&quot;Ulriklm&quot;</td><td>&quot;text&quot;</td><td>&quot;Denmark&quot;</td><td>&quot;t5_2qjto&quot;</td><td>790615</td><td>6</td><td>0</td><td>6</td><td>0.61</td><td>false</td><td>0</td><td>2017-01-19 09:21:00</td><td>&quot;Asylansøgere&quot;</td></tr><tr><td>&quot;7oqeh3&quot;</td><td>&quot;/r/Denmark/comments/7oqeh3/tys…</td><td>&quot;Tyskland melder om kraftig sti…</td><td>&quot;&quot;</td><td>&quot;default&quot;</td><td>null</td><td>10</td><td>&quot;Maktone&quot;</td><td>&quot;text&quot;</td><td>&quot;Denmark&quot;</td><td>&quot;t5_2qjto&quot;</td><td>790615</td><td>22</td><td>0</td><td>22</td><td>0.72</td><td>false</td><td>0</td><td>2018-01-07 12:50:24</td><td>&quot;Asylansøgere&quot;</td></tr><tr><td>&quot;3v44qv&quot;</td><td>&quot;/r/Denmark/comments/3v44qv/hvi…</td><td>&quot;Hvis de planlagte stramninger …</td><td>&quot;&quot;</td><td>&quot;https://b.thumbs.redditmedia.c…</td><td>null</td><td>16</td><td>&quot;zwtor&quot;</td><td>&quot;text&quot;</td><td>&quot;Denmark&quot;</td><td>&quot;t5_2qjto&quot;</td><td>790615</td><td>11</td><td>0</td><td>11</td><td>0.81</td><td>false</td><td>0</td><td>2015-12-02 07:23:02</td><td>&quot;Asylansøgere&quot;</td></tr><tr><td>&quot;bcps8y&quot;</td><td>&quot;/r/Denmark/comments/bcps8y/347…</td><td>&quot;3473 afviste asylansøgere er g…</td><td>&quot;&quot;</td><td>&quot;https://b.thumbs.redditmedia.c…</td><td>null</td><td>5</td><td>&quot;VerdantFuppe&quot;</td><td>&quot;richtext&quot;</td><td>&quot;Denmark&quot;</td><td>&quot;t5_2qjto&quot;</td><td>790615</td><td>26</td><td>0</td><td>26</td><td>0.78</td><td>false</td><td>0</td><td>2019-04-13 12:00:30</td><td>&quot;Asylansøgere&quot;</td></tr></tbody></table></div>"
      ],
      "text/plain": [
       "shape: (97_100, 20)\n",
       "┌─────────┬────────────┬────────────┬──────────┬───┬───────────┬───────────┬───────────┬───────────┐\n",
       "│ id      ┆ permalink  ┆ title      ┆ selftext ┆ … ┆ hide_scor ┆ total_awa ┆ created   ┆ search_te │\n",
       "│ ---     ┆ ---        ┆ ---        ┆ ---      ┆   ┆ e         ┆ rds_recei ┆ ---       ┆ rm        │\n",
       "│ str     ┆ str        ┆ str        ┆ str      ┆   ┆ ---       ┆ ved       ┆ datetime[ ┆ ---       │\n",
       "│         ┆            ┆            ┆          ┆   ┆ bool      ┆ ---       ┆ μs]       ┆ str       │\n",
       "│         ┆            ┆            ┆          ┆   ┆           ┆ i64       ┆           ┆           │\n",
       "╞═════════╪════════════╪════════════╪══════════╪═══╪═══════════╪═══════════╪═══════════╪═══════════╡\n",
       "│ 1emzyva ┆ /r/Denmark ┆ Asylansøge ┆          ┆ … ┆ false     ┆ 0         ┆ 2024-08-0 ┆ Asylansøg │\n",
       "│         ┆ /comments/ ┆ re skaber  ┆          ┆   ┆           ┆           ┆ 8         ┆ ere       │\n",
       "│         ┆ 1emzyva/as ┆ utryghed   ┆          ┆   ┆           ┆           ┆ 07:40:21  ┆           │\n",
       "│         ┆ …          ┆ i…         ┆          ┆   ┆           ┆           ┆           ┆           │\n",
       "│ 1eon7h7 ┆ /r/Denmark ┆ Asylansøge ┆          ┆ … ┆ false     ┆ 0         ┆ 2024-08-1 ┆ Asylansøg │\n",
       "│         ┆ /comments/ ┆ re skaber  ┆          ┆   ┆           ┆           ┆ 0         ┆ ere       │\n",
       "│         ┆ 1eon7h7/as ┆ utryghed   ┆          ┆   ┆           ┆           ┆ 07:25:45  ┆           │\n",
       "│         ┆ …          ┆ i…         ┆          ┆   ┆           ┆           ┆           ┆           │\n",
       "│ 1bkvbno ┆ /r/Denmark ┆ Nul asylan ┆          ┆ … ┆ false     ┆ 0         ┆ 2024-03-2 ┆ Asylansøg │\n",
       "│         ┆ /comments/ ┆ søgere og  ┆          ┆   ┆           ┆           ┆ 2         ┆ ere       │\n",
       "│         ┆ 1bkvbno/nu ┆ flere      ┆          ┆   ┆           ┆           ┆ 09:40:40  ┆           │\n",
       "│         ┆ …          ┆ udvi…      ┆          ┆   ┆           ┆           ┆           ┆           │\n",
       "│ 1et0osh ┆ /r/Denmark ┆ 300        ┆          ┆ … ┆ false     ┆ 0         ┆ 2024-08-1 ┆ Asylansøg │\n",
       "│         ┆ /comments/ ┆ mennesker  ┆          ┆   ┆           ┆           ┆ 5         ┆ ere       │\n",
       "│         ┆ 1et0osh/30 ┆ til        ┆          ┆   ┆           ┆           ┆ 17:13:14  ┆           │\n",
       "│         ┆ …          ┆ borgermøde ┆          ┆   ┆           ┆           ┆           ┆           │\n",
       "│         ┆            ┆ o…         ┆          ┆   ┆           ┆           ┆           ┆           │\n",
       "│ 1f8r31f ┆ /r/Denmark ┆ Kaare      ┆          ┆ … ┆ false     ┆ 0         ┆ 2024-09-0 ┆ Asylansøg │\n",
       "│         ┆ /comments/ ┆ Dybvad     ┆          ┆   ┆           ┆           ┆ 4         ┆ ere       │\n",
       "│         ┆ 1f8r31f/ka ┆ rejser til ┆          ┆   ┆           ┆           ┆ 11:41:00  ┆           │\n",
       "│         ┆ …          ┆ kontro…    ┆          ┆   ┆           ┆           ┆           ┆           │\n",
       "│ …       ┆ …          ┆ …          ┆ …        ┆ … ┆ …         ┆ …         ┆ …         ┆ …         │\n",
       "│ 3ynwy9  ┆ /r/Denmark ┆ Alle asyla ┆          ┆ … ┆ false     ┆ 0         ┆ 2015-12-2 ┆ Asylansøg │\n",
       "│         ┆ /comments/ ┆ nsøgere,   ┆          ┆   ┆           ┆           ┆ 9         ┆ ere       │\n",
       "│         ┆ 3ynwy9/all ┆ der kommer ┆          ┆   ┆           ┆           ┆ 15:39:47  ┆           │\n",
       "│         ┆ …          ┆ …          ┆          ┆   ┆           ┆           ┆           ┆           │\n",
       "│ 5ovnao  ┆ /r/Denmark ┆ 17 asylans ┆          ┆ … ┆ false     ┆ 0         ┆ 2017-01-1 ┆ Asylansøg │\n",
       "│         ┆ /comments/ ┆ øgere dømt ┆          ┆   ┆           ┆           ┆ 9         ┆ ere       │\n",
       "│         ┆ 5ovnao/17_ ┆ for voldt… ┆          ┆   ┆           ┆           ┆ 09:21:00  ┆           │\n",
       "│         ┆ …          ┆            ┆          ┆   ┆           ┆           ┆           ┆           │\n",
       "│ 7oqeh3  ┆ /r/Denmark ┆ Tyskland   ┆          ┆ … ┆ false     ┆ 0         ┆ 2018-01-0 ┆ Asylansøg │\n",
       "│         ┆ /comments/ ┆ melder om  ┆          ┆   ┆           ┆           ┆ 7         ┆ ere       │\n",
       "│         ┆ 7oqeh3/tys ┆ kraftig    ┆          ┆   ┆           ┆           ┆ 12:50:24  ┆           │\n",
       "│         ┆ …          ┆ sti…       ┆          ┆   ┆           ┆           ┆           ┆           │\n",
       "│ 3v44qv  ┆ /r/Denmark ┆ Hvis de    ┆          ┆ … ┆ false     ┆ 0         ┆ 2015-12-0 ┆ Asylansøg │\n",
       "│         ┆ /comments/ ┆ planlagte  ┆          ┆   ┆           ┆           ┆ 2         ┆ ere       │\n",
       "│         ┆ 3v44qv/hvi ┆ stramninge ┆          ┆   ┆           ┆           ┆ 07:23:02  ┆           │\n",
       "│         ┆ …          ┆ r …        ┆          ┆   ┆           ┆           ┆           ┆           │\n",
       "│ bcps8y  ┆ /r/Denmark ┆ 3473       ┆          ┆ … ┆ false     ┆ 0         ┆ 2019-04-1 ┆ Asylansøg │\n",
       "│         ┆ /comments/ ┆ afviste    ┆          ┆   ┆           ┆           ┆ 3         ┆ ere       │\n",
       "│         ┆ bcps8y/347 ┆ asylansøge ┆          ┆   ┆           ┆           ┆ 12:00:30  ┆           │\n",
       "│         ┆ …          ┆ re er g…   ┆          ┆   ┆           ┆           ┆           ┆           │\n",
       "└─────────┴────────────┴────────────┴──────────┴───┴───────────┴───────────┴───────────┴───────────┘"
      ]
     },
     "execution_count": 21,
     "metadata": {},
     "output_type": "execute_result"
    }
   ],
   "source": [
    "df"
   ]
  }
 ],
 "metadata": {
  "kernelspec": {
   "display_name": ".venv",
   "language": "python",
   "name": "python3"
  },
  "language_info": {
   "codemirror_mode": {
    "name": "ipython",
    "version": 3
   },
   "file_extension": ".py",
   "mimetype": "text/x-python",
   "name": "python",
   "nbconvert_exporter": "python",
   "pygments_lexer": "ipython3",
   "version": "3.13.0"
  }
 },
 "nbformat": 4,
 "nbformat_minor": 2
}
