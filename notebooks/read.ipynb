{
 "cells": [
  {
   "cell_type": "code",
   "execution_count": null,
   "metadata": {
    "vscode": {
     "languageId": "plaintext"
    }
   },
   "outputs": [],
   "source": [
    "term = SEARCH_TERMS[0]\n",
    "\n",
    "path = Path(f\"output/{term}.csv\".lower())\n",
    "\n",
    "if path.exists():\n",
    "    df = pl.read_parquet(path)\n",
    "else:\n",
    "    print(\"failed to read parquet, file does not exist.\")"
   ]
  }
 ],
 "metadata": {
  "language_info": {
   "name": "python"
  }
 },
 "nbformat": 4,
 "nbformat_minor": 2
}
