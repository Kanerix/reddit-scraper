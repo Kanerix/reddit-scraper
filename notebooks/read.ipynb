{
 "cells": [
  {
   "cell_type": "code",
   "execution_count": null,
   "metadata": {},
   "outputs": [],
   "source": [
    "from pathlib import Path\n",
    "\n",
    "import polars as pl"
   ]
  },
  {
   "cell_type": "code",
   "execution_count": null,
   "metadata": {},
   "outputs": [],
   "source": [
    "files = [\n",
    "    \"output/asylansøgere_10000.parquet\",\n",
    "    \"output/combined.parquet\",\n",
    "    \"output/flygtninge_9900.parquet\",\n",
    "    \"output/ikke-danske statsborgere_40.parquet\",\n",
    "    \"output/ikke-vestlige indvandrere_59.parquet\",\n",
    "    \"output/immigranter_10000.parquet\",\n",
    "    \"output/indvandrere_10000.parquet\",\n",
    "    \"output/indvandring_9900.parquet\",\n",
    "    \"output/indvandringspolitik_6.parquet\",\n",
    "    \"output/migranter_9900.parquet\",\n",
    "    \"output/muslimske indvandrere_20.parquet\",\n",
    "    \"output/statsborgerskab_10000.parquet\",\n",
    "    \"output/udenlandsk baggrund_23.parquet\",\n",
    "    \"output/udenlandske mennesker_32.parquet\",\n",
    "    \"output/udlændinge_10000.parquet\",\n",
    "    \"output/udlændingepolitik_76.parquet\",\n",
    "]\n",
    "\n",
    "df = None\n",
    "\n",
    "for file in files:\n",
    "    path = Path(file)\n",
    "\n",
    "    if path.exists():\n",
    "\n",
    "        if df is None:\n",
    "            df = pl.read_parquet(path)\n",
    "        else:\n",
    "            df = df.vstack(pl.read_parquet(path))\n",
    "    else:\n",
    "        raise RuntimeError(\"failed to read parquet, file does not exist.\")\n",
    "\n",
    "if df is None:\n",
    "    raise RuntimeError(\"DataFrame does not exists.\")\n",
    "\n",
    "df = df.unique(\"id\")\n",
    "df.write_parquet(\"output/combined.parquet\")"
   ]
  },
  {
   "cell_type": "code",
   "execution_count": null,
   "metadata": {},
   "outputs": [],
   "source": [
    "permalinks = df.select(\"permalink\").to_series()\n",
    "for link in permalinks:\n",
    "    print(f\"\\\"{link}\\\"\")"
   ]
  }
 ],
 "metadata": {
  "kernelspec": {
   "display_name": ".venv",
   "language": "python",
   "name": "python3"
  },
  "language_info": {
   "codemirror_mode": {
    "name": "ipython",
    "version": 3
   },
   "file_extension": ".py",
   "mimetype": "text/x-python",
   "name": "python",
   "nbconvert_exporter": "python",
   "pygments_lexer": "ipython3",
   "version": "3.13.0"
  }
 },
 "nbformat": 4,
 "nbformat_minor": 2
}
