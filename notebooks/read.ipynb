{
 "cells": [
  {
   "cell_type": "code",
   "execution_count": 3,
   "metadata": {},
   "outputs": [],
   "source": [
    "from pathlib import Path\n",
    "\n",
    "import polars as pl"
   ]
  },
  {
   "cell_type": "code",
   "execution_count": 4,
   "metadata": {},
   "outputs": [],
   "source": [
    "files = [\n",
    "    \"asylansøgere_9800\",\n",
    "    \"flygtninge_9900\",\n",
    "    \"indvandrere_10000\",\n",
    "    \"migranter_9900\",\n",
    "    \"udlændinge_10000\",\n",
    "]\n",
    "\n",
    "df = None\n",
    "\n",
    "for file in files:\n",
    "    path = Path(f\"output/{file}.parquet\".lower())\n",
    "\n",
    "    if path.exists():\n",
    "\n",
    "        if df is None:\n",
    "            df = pl.read_parquet(path)\n",
    "        else:\n",
    "            df = df.vstack(pl.read_parquet(path))\n",
    "    else:\n",
    "        raise RuntimeError(\"failed to read parquet, file does not exist.\")\n",
    "\n",
    "if df is not None:\n",
    "    df = df.unique(\"id\")\n",
    "    df.write_parquet(\"output/combined.parquet\")"
   ]
  }
 ],
 "metadata": {
  "kernelspec": {
   "display_name": ".venv",
   "language": "python",
   "name": "python3"
  },
  "language_info": {
   "codemirror_mode": {
    "name": "ipython",
    "version": 3
   },
   "file_extension": ".py",
   "mimetype": "text/x-python",
   "name": "python",
   "nbconvert_exporter": "python",
   "pygments_lexer": "ipython3",
   "version": "3.13.0"
  }
 },
 "nbformat": 4,
 "nbformat_minor": 2
}
