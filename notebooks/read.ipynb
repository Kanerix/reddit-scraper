{
 "cells": [
  {
   "cell_type": "code",
   "execution_count": 13,
   "metadata": {},
   "outputs": [],
   "source": [
    "from pathlib import Path\n",
    "from os import listdir\n",
    "\n",
    "import polars as pl"
   ]
  },
  {
   "cell_type": "code",
   "execution_count": null,
   "metadata": {},
   "outputs": [],
   "source": [
    "files = [\n",
    "    f\"output/{f}\"\n",
    "    for f in listdir(\"output\")\n",
    "    if f.endswith(\".parquet\") and \"combined\" not in f\n",
    "]\n",
    "\n",
    "df = None\n",
    "\n",
    "for file in files:\n",
    "    path = Path(file)\n",
    "\n",
    "    if path.exists():\n",
    "        if df is None:\n",
    "            df = pl.read_parquet(path)\n",
    "        else:\n",
    "            df = df.vstack(pl.read_parquet(path))\n",
    "    else:\n",
    "        raise RuntimeError(\"failed to read parquet, file does not exist.\")\n",
    "\n",
    "if df is None:\n",
    "    raise RuntimeError(\"DataFrame does not exists.\")\n",
    "\n",
    "df = df.unique(\"id\")\n",
    "df.write_parquet(\"output/combined.parquet\")"
   ]
  }
 ],
 "metadata": {
  "kernelspec": {
   "display_name": ".venv",
   "language": "python",
   "name": "python3"
  },
  "language_info": {
   "codemirror_mode": {
    "name": "ipython",
    "version": 3
   },
   "file_extension": ".py",
   "mimetype": "text/x-python",
   "name": "python",
   "nbconvert_exporter": "python",
   "pygments_lexer": "ipython3",
   "version": "3.13.0"
  }
 },
 "nbformat": 4,
 "nbformat_minor": 2
}
